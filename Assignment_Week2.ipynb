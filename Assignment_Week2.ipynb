{
 "cells": [
  {
   "cell_type": "code",
   "execution_count": 3,
   "id": "53331541-351c-406c-bfb6-b1482350cc8a",
   "metadata": {},
   "outputs": [
    {
     "data": {
      "text/plain": [
       "'Q1. How do you comment code in Python? What are the different types of comments?\\nAnswer: We can comment the code by using hash symbol (#). We can also use triple quotes for multi line comments.'"
      ]
     },
     "execution_count": 3,
     "metadata": {},
     "output_type": "execute_result"
    }
   ],
   "source": [
    "\"\"\"Q1. How do you comment code in Python? What are the different types of comments?\n",
    "Answer: We can comment the code by using hash symbol (#). We can also use triple quotes for multi line comments.\"\"\""
   ]
  },
  {
   "cell_type": "code",
   "execution_count": 4,
   "id": "d2ac8ead-3539-40cf-bfcb-35c31c92ad1a",
   "metadata": {},
   "outputs": [],
   "source": [
    "#Q2. What are variables in Python? How do you declare and assign values to variables?\n",
    "# Answer: Variables are used to store and manage the data. To assign and declare the values to variables, we use assignment operator \"(=)\"."
   ]
  },
  {
   "cell_type": "code",
   "execution_count": 5,
   "id": "26030502-5e53-4a45-8552-fc7b09f30caa",
   "metadata": {},
   "outputs": [],
   "source": [
    "# Q3. How do you convert one data type to another in Python?\n",
    "# Answer: To covert one data type to another, we use the conversion functions. Most used conversion functions are below:\n",
    "#str()\n",
    "#int()\n",
    "#float()\n",
    "#list()\n",
    "#tuple()"
   ]
  },
  {
   "cell_type": "code",
   "execution_count": 8,
   "id": "bb9d8b79-63dd-424c-bad2-88bbce2d6c59",
   "metadata": {},
   "outputs": [
    {
     "name": "stdout",
     "output_type": "stream",
     "text": [
      "[2, 3]\n"
     ]
    }
   ],
   "source": [
    "#Q5. Given a list my_list = [1, 2, 3, 4, 5], write the code to slice the list and obtain the sub-list [2, 3].\n",
    "#Answer\n",
    "my_list = [1, 2, 3, 4, 5]\n",
    "sub_list = my_list[1:3]\n",
    "print(sub_list)"
   ]
  },
  {
   "cell_type": "code",
   "execution_count": null,
   "id": "2531ac45-a9d3-4ed0-9c77-154752e0f6d1",
   "metadata": {},
   "outputs": [],
   "source": [
    "#Q6. What is a complex number in mathematics, and how is it represented in Python?\n",
    "#Answer: A complex number is the combination of a real number and a imaginary number. Below is the example to represent it in python:\n",
    "#1+2j"
   ]
  },
  {
   "cell_type": "code",
   "execution_count": null,
   "id": "37163c0b-9ad8-475d-93a7-532dc1b8e2cc",
   "metadata": {},
   "outputs": [],
   "source": [
    "#Q7. What is the correct way to declare a variable named age and assign the value 25 to it?\n",
    "#Answer: \n",
    "age = 25"
   ]
  },
  {
   "cell_type": "code",
   "execution_count": null,
   "id": "659d8061-ba2c-41eb-ac2f-2c7a36672acf",
   "metadata": {},
   "outputs": [],
   "source": [
    "#Q8. Declare a variable named price and assign the value 9.99 to it. What data type does this variable belong to?\n",
    "#Answer:\n",
    "price = 9.99\n",
    "# The data type is floating number."
   ]
  },
  {
   "cell_type": "code",
   "execution_count": 9,
   "id": "b40f9e09-f9fd-44ee-91bf-e9644ef54c07",
   "metadata": {},
   "outputs": [
    {
     "name": "stdout",
     "output_type": "stream",
     "text": [
      "Mohit Allawadhi\n"
     ]
    }
   ],
   "source": [
    "#Q9. Create a variable named name and assign your full name to it as a string. How would you print the value of this variable?\n",
    "name = \"Mohit Allawadhi\"\n",
    "print(name)"
   ]
  },
  {
   "cell_type": "code",
   "execution_count": 10,
   "id": "7c5e76ff-808b-4856-be39-19fc3b8a5dda",
   "metadata": {},
   "outputs": [
    {
     "data": {
      "text/plain": [
       "'World'"
      ]
     },
     "execution_count": 10,
     "metadata": {},
     "output_type": "execute_result"
    }
   ],
   "source": [
    "#Q10. Given the string \"Hello, World!\", extract the substring \"World\".\n",
    "string = \"Hello World\"\n",
    "string[6:11]"
   ]
  }
 ],
 "metadata": {
  "kernelspec": {
   "display_name": "Python 3 (ipykernel)",
   "language": "python",
   "name": "python3"
  },
  "language_info": {
   "codemirror_mode": {
    "name": "ipython",
    "version": 3
   },
   "file_extension": ".py",
   "mimetype": "text/x-python",
   "name": "python",
   "nbconvert_exporter": "python",
   "pygments_lexer": "ipython3",
   "version": "3.10.8"
  }
 },
 "nbformat": 4,
 "nbformat_minor": 5
}
